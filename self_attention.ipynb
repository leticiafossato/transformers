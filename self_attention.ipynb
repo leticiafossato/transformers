{
 "cells": [
  {
   "cell_type": "markdown",
   "id": "4d5bee30",
   "metadata": {},
   "source": [
    "# Self - Attention"
   ]
  },
  {
   "cell_type": "markdown",
   "id": "35f0eaa6",
   "metadata": {},
   "source": [
    "query - o que estou procurando\n",
    "key - o que tenho a oferecer\n",
    "value - o que eu realmente ofereço"
   ]
  },
  {
   "cell_type": "code",
   "execution_count": 1,
   "id": "fbe34652",
   "metadata": {
    "ExecuteTime": {
     "end_time": "2024-05-08T03:22:49.010325Z",
     "start_time": "2024-05-08T03:22:48.246550Z"
    }
   },
   "outputs": [],
   "source": [
    "import numpy as np\n",
    "import math\n",
    "import matplotlib.pyplot as plt"
   ]
  },
  {
   "cell_type": "code",
   "execution_count": 2,
   "id": "e07bdf80",
   "metadata": {
    "ExecuteTime": {
     "end_time": "2024-05-08T03:22:49.018935Z",
     "start_time": "2024-05-08T03:22:49.012097Z"
    }
   },
   "outputs": [],
   "source": [
    "# Exemplo de tradução\n",
    "# Frase de entrada (inglês)\n",
    "input_sentence = \"Eu estou muito feliz\"\n",
    "# Frase traduzida (português)\n",
    "output_sentence =  \"I am very happy\""
   ]
  },
  {
   "cell_type": "code",
   "execution_count": 3,
   "id": "de9f7f70",
   "metadata": {
    "ExecuteTime": {
     "end_time": "2024-05-08T03:22:49.035319Z",
     "start_time": "2024-05-08T03:22:49.021139Z"
    }
   },
   "outputs": [],
   "source": [
    "L, d_k, d_v = 4, 8, 8"
   ]
  },
  {
   "cell_type": "code",
   "execution_count": 4,
   "id": "17c2880d",
   "metadata": {
    "ExecuteTime": {
     "end_time": "2024-05-08T03:22:49.051448Z",
     "start_time": "2024-05-08T03:22:49.038709Z"
    }
   },
   "outputs": [],
   "source": [
    "q = np.random.randn(L, d_k)\n",
    "k = np.random.randn(L, d_k)\n",
    "v = np.random.randn(L, d_v)"
   ]
  },
  {
   "cell_type": "code",
   "execution_count": 5,
   "id": "32741a56",
   "metadata": {
    "ExecuteTime": {
     "end_time": "2024-05-08T03:22:49.067951Z",
     "start_time": "2024-05-08T03:22:49.052264Z"
    }
   },
   "outputs": [
    {
     "data": {
      "text/plain": [
       "(0.8269643974995575, 1.1732479634942026, 8.785315747450271)"
      ]
     },
     "execution_count": 5,
     "metadata": {},
     "output_type": "execute_result"
    }
   ],
   "source": [
    "q.var(), k.var(), np.matmul(q, k.T).var()"
   ]
  },
  {
   "cell_type": "code",
   "execution_count": 6,
   "id": "350acc32",
   "metadata": {
    "ExecuteTime": {
     "end_time": "2024-05-08T03:22:49.084047Z",
     "start_time": "2024-05-08T03:22:49.067951Z"
    }
   },
   "outputs": [
    {
     "data": {
      "text/plain": [
       "1.0981644684312837"
      ]
     },
     "execution_count": 6,
     "metadata": {},
     "output_type": "execute_result"
    }
   ],
   "source": [
    "scaled = np.matmul(q,k.T) / math.sqrt(d_k)\n",
    "scaled.var()"
   ]
  },
  {
   "cell_type": "code",
   "execution_count": 7,
   "id": "2d8082ba",
   "metadata": {
    "ExecuteTime": {
     "end_time": "2024-05-08T03:22:49.100810Z",
     "start_time": "2024-05-08T03:22:49.087313Z"
    }
   },
   "outputs": [
    {
     "data": {
      "text/plain": [
       "array([[  0., -inf, -inf, -inf],\n",
       "       [  0.,   0., -inf, -inf],\n",
       "       [  0.,   0.,   0., -inf],\n",
       "       [  0.,   0.,   0.,   0.]])"
      ]
     },
     "execution_count": 7,
     "metadata": {},
     "output_type": "execute_result"
    }
   ],
   "source": [
    "mask = np.tril(np.ones((L,L)))\n",
    "\n",
    "mask[mask==0] = -np.infty\n",
    "mask[mask==1] = 0\n",
    "\n",
    "mask"
   ]
  },
  {
   "cell_type": "code",
   "execution_count": 8,
   "id": "d334804e",
   "metadata": {
    "ExecuteTime": {
     "end_time": "2024-05-08T03:22:49.116556Z",
     "start_time": "2024-05-08T03:22:49.101755Z"
    }
   },
   "outputs": [],
   "source": [
    "def softmax(x):\n",
    "    return (np.exp(x).T / np.sum(np.exp(x), axis=-1)).T\n",
    "\n",
    "def scaled_dot_product_attention(q, k, v, mask=None):\n",
    "    d_k = q.shape[-1]\n",
    "    scaled = np.matmul(q, k.T) / math.sqrt(d_k)\n",
    "    if mask is not None:\n",
    "        scaled = scaled + mask\n",
    "    attention = softmax(scaled)\n",
    "    out = np.matmul(attention, v)\n",
    "    return out, attention"
   ]
  },
  {
   "cell_type": "code",
   "execution_count": 9,
   "id": "9d339f2e",
   "metadata": {
    "ExecuteTime": {
     "end_time": "2024-05-08T03:22:49.132837Z",
     "start_time": "2024-05-08T03:22:49.118168Z"
    }
   },
   "outputs": [],
   "source": [
    "def plot_attention_heatmap(attention_matrix, input_sentence, output_sentence):\n",
    "    plt.figure(figsize=(8, 6))\n",
    "    plt.imshow(attention_matrix, cmap='viridis', interpolation='nearest')\n",
    "    plt.colorbar()\n",
    "    plt.xticks(np.arange(len(output_sentence)), output_sentence)\n",
    "    plt.yticks(np.arange(len(input_sentence)), input_sentence)\n",
    "    plt.xlabel('Output')\n",
    "    plt.ylabel('Input')\n",
    "    plt.title('Attention Heatmap')\n",
    "    plt.show()"
   ]
  },
  {
   "cell_type": "code",
   "execution_count": 16,
   "id": "d2fa8dc8",
   "metadata": {
    "ExecuteTime": {
     "end_time": "2024-05-08T03:23:27.549214Z",
     "start_time": "2024-05-08T03:23:27.524531Z"
    }
   },
   "outputs": [
    {
     "name": "stdout",
     "output_type": "stream",
     "text": [
      "Q\n",
      " [[-0.02995327  0.36189566 -1.36995412 -0.20848911  0.79096271 -0.6687335\n",
      "   0.91633208 -0.53181607]\n",
      " [-0.03984006  0.116389    0.12780866  2.1374876   1.16484833  0.02194324\n",
      "  -0.94756961 -2.17562791]\n",
      " [-0.07006813 -0.23997978 -1.04361879 -1.56656369  0.48085846  0.01376757\n",
      "   1.77821963 -0.42694288]\n",
      " [ 0.39505043  0.99964974  0.90011933  0.48703786 -0.05907988 -0.72889438\n",
      "   0.17544385 -0.82265977]]\n",
      "K\n",
      " [[-1.43993887 -0.7590662   2.42428472  0.38108948  1.28813129  0.7318157\n",
      "  -0.6434666   0.78972398]\n",
      " [ 1.12755049  0.12721643  0.63416685 -1.14503601  0.5788947   0.47156675\n",
      "   0.84612166  0.16949014]\n",
      " [ 0.35617572 -0.8770593  -0.63270255 -0.67928996 -0.41902016  1.70262307\n",
      "   0.53719636 -0.46319715]\n",
      " [-0.3555167   0.7339877  -0.88790682 -2.36694448  0.73834102 -1.61347572\n",
      "   0.52978518 -2.35002751]]\n",
      "V\n",
      " [[ 0.94918326 -1.38977784 -0.49198933  2.6928536   0.5891871  -0.74434075\n",
      "  -0.45010956  0.15792216]\n",
      " [-0.619162   -1.32546473  0.31923359  0.49793278  1.14054303  1.19194968\n",
      "  -2.62710782 -0.71705555]\n",
      " [ 0.79935048  0.39823598 -0.33036143 -0.53376946  0.00371699 -1.5515923\n",
      "   0.06372292  0.33973345]\n",
      " [-1.25685894 -1.05186989  0.53013817  0.28743068 -0.35761773  1.48159781\n",
      "  -0.45041388  0.56350433]]\n",
      "New V\n",
      " [[ 0.94918326 -1.38977784 -0.49198933  2.6928536   0.5891871  -0.74434075\n",
      "  -0.45010956  0.15792216]\n",
      " [ 0.67457909 -1.37851715 -0.34995097  2.30854128  0.68572493 -0.40531246\n",
      "  -0.83128379  0.00472086]\n",
      " [ 0.14841569 -0.48667444 -0.03670637  0.09869767  0.55902899 -0.24031612\n",
      "  -1.20910981 -0.15920208]\n",
      " [-0.43228136 -1.04492007  0.1786413   0.75641844  0.25202859  0.64222757\n",
      "  -0.94645509  0.13464485]]\n",
      "Attention\n",
      " [[1.         0.         0.         0.        ]\n",
      " [0.82490835 0.17509165 0.         0.        ]\n",
      " [0.04767779 0.46392154 0.48840068 0.        ]\n",
      " [0.20728367 0.25167308 0.10057823 0.44046503]]\n"
     ]
    }
   ],
   "source": [
    "values, attention = scaled_dot_product_attention(q, k, v, mask=mask)\n",
    "print(\"Q\\n\", q)\n",
    "print(\"K\\n\", k)\n",
    "print(\"V\\n\", v)\n",
    "print(\"New V\\n\", values)\n",
    "print(\"Attention\\n\", attention)"
   ]
  },
  {
   "cell_type": "code",
   "execution_count": 10,
   "id": "5388d029",
   "metadata": {
    "ExecuteTime": {
     "end_time": "2024-05-08T03:22:49.140893Z",
     "start_time": "2024-05-08T03:22:49.133841Z"
    }
   },
   "outputs": [],
   "source": [
    "new_v_input, attention_input = scaled_dot_product_attention(q, k, v, mask=None)"
   ]
  },
  {
   "cell_type": "code",
   "execution_count": 11,
   "id": "da08e4d6",
   "metadata": {
    "ExecuteTime": {
     "end_time": "2024-05-08T03:22:49.148963Z",
     "start_time": "2024-05-08T03:22:49.142208Z"
    }
   },
   "outputs": [],
   "source": [
    "new_v_output, attention_output = scaled_dot_product_attention(q, k, v, mask=mask)"
   ]
  },
  {
   "cell_type": "code",
   "execution_count": 13,
   "id": "c09232a5",
   "metadata": {
    "ExecuteTime": {
     "end_time": "2024-05-08T03:22:59.078577Z",
     "start_time": "2024-05-08T03:22:58.588773Z"
    }
   },
   "outputs": [
    {
     "data": {
      "image/png": "[encoded data removed]",
      "text/plain": [
       "<Figure size 800x600 with 2 Axes>"
      ]
     },
     "metadata": {},
     "output_type": "display_data"
    }
   ],
   "source": [
    "plot_attention_heatmap(attention_input.squeeze(), input_sentence.split(), input_sentence.split())"
   ]
  },
  {
   "cell_type": "code",
   "execution_count": 14,
   "id": "5b2598f7",
   "metadata": {
    "ExecuteTime": {
     "end_time": "2024-05-08T03:23:04.718244Z",
     "start_time": "2024-05-08T03:23:04.346728Z"
    }
   },
   "outputs": [
    {
     "data": {
      "image/png": "[encoded data removed]",
      "text/plain": [
       "<Figure size 800x600 with 2 Axes>"
      ]
     },
     "metadata": {},
     "output_type": "display_data"
    }
   ],
   "source": [
    "plot_attention_heatmap(attention_output.squeeze(), output_sentence.split(), output_sentence.split())"
   ]
  },
  {
   "cell_type": "markdown",
   "id": "437cf31b",
   "metadata": {},
   "source": [
    "Referência:\n",
    "- https://github.com/ajhalthor"
   ]
  }
 ],
 "metadata": {
  "kernelspec": {
   "display_name": "Python 3 (ipykernel)",
   "language": "python",
   "name": "python3"
  },
  "language_info": {
   "codemirror_mode": {
    "name": "ipython",
    "version": 3
   },
   "file_extension": ".py",
   "mimetype": "text/x-python",
   "name": "python",
   "nbconvert_exporter": "python",
   "pygments_lexer": "ipython3",
   "version": "3.7.2"
  },
  "toc": {
   "base_numbering": 1,
   "nav_menu": {},
   "number_sections": true,
   "sideBar": true,
   "skip_h1_title": false,
   "title_cell": "Table of Contents",
   "title_sidebar": "Contents",
   "toc_cell": false,
   "toc_position": {},
   "toc_section_display": true,
   "toc_window_display": false
  },
  "varInspector": {
   "cols": {
    "lenName": 16,
    "lenType": 16,
    "lenVar": 40
   },
   "kernels_config": {
    "python": {
     "delete_cmd_postfix": "",
     "delete_cmd_prefix": "del ",
     "library": "var_list.py",
     "varRefreshCmd": "print(var_dic_list())"
    },
    "r": {
     "delete_cmd_postfix": ") ",
     "delete_cmd_prefix": "rm(",
     "library": "var_list.r",
     "varRefreshCmd": "cat(var_dic_list()) "
    }
   },
   "types_to_exclude": [
    "module",
    "function",
    "builtin_function_or_method",
    "instance",
    "_Feature"
   ],
   "window_display": false
  }
 },
 "nbformat": 4,
 "nbformat_minor": 5
}
