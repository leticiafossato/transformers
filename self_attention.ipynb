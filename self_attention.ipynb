{
 "cells": [
  {
   "cell_type": "markdown",
   "id": "55797ff6",
   "metadata": {},
   "source": [
    "# Self - Attention"
   ]
  },
  {
   "cell_type": "markdown",
   "id": "3baec29c",
   "metadata": {
    "ExecuteTime": {
     "end_time": "2024-05-08T18:04:45.424581Z",
     "start_time": "2024-05-08T18:04:45.407644Z"
    }
   },
   "source": [
    "<img style=\"float: left; width:200px;\" src=\"self_attention.png\">"
   ]
  },
  {
   "cell_type": "markdown",
   "id": "ae00ca21",
   "metadata": {},
   "source": [
    "$Attention(Q,K,V) = softmax(\\frac{QK^T}{\\sqrt{d_k}})V$"
   ]
  },
  {
   "cell_type": "markdown",
   "id": "6931a4ea",
   "metadata": {
    "ExecuteTime": {
     "end_time": "2024-05-08T17:59:30.685173Z",
     "start_time": "2024-05-08T17:59:30.666347Z"
    }
   },
   "source": [
    "Q = query - o que estou procurando\n",
    "\n",
    "\n",
    "K = key - o que tenho a oferecer\n",
    "\n",
    "\n",
    "V = value - o que eu realmente ofereço"
   ]
  },
  {
   "cell_type": "code",
   "execution_count": 34,
   "id": "8f21d8d0",
   "metadata": {
    "ExecuteTime": {
     "end_time": "2024-05-08T17:01:33.406400Z",
     "start_time": "2024-05-08T17:01:33.401113Z"
    }
   },
   "outputs": [],
   "source": [
    "import numpy as np\n",
    "import math\n",
    "import matplotlib.pyplot as plt\n",
    "import seaborn as sns"
   ]
  },
  {
   "cell_type": "code",
   "execution_count": 2,
   "id": "6d2aa640",
   "metadata": {
    "ExecuteTime": {
     "end_time": "2024-05-08T16:55:46.573331Z",
     "start_time": "2024-05-08T16:55:46.561137Z"
    }
   },
   "outputs": [],
   "source": [
    "# Exemplo de tradução\n",
    "# Frase de entrada (inglês)\n",
    "input_sentence = \"Eu estou muito feliz\"\n",
    "# Frase traduzida (português)\n",
    "output_sentence =  \"I am very happy\""
   ]
  },
  {
   "cell_type": "code",
   "execution_count": 3,
   "id": "03c0d1d0",
   "metadata": {
    "ExecuteTime": {
     "end_time": "2024-05-08T16:55:46.588603Z",
     "start_time": "2024-05-08T16:55:46.576328Z"
    }
   },
   "outputs": [],
   "source": [
    "L, d_k, d_v = 4, 8, 8"
   ]
  },
  {
   "cell_type": "markdown",
   "id": "dc8d9b63",
   "metadata": {},
   "source": [
    "> Artigo traduz de inglês para alemão e utiliza um embedding $d_{model} = 512$."
   ]
  },
  {
   "cell_type": "code",
   "execution_count": 4,
   "id": "17c2880d",
   "metadata": {
    "ExecuteTime": {
     "end_time": "2024-05-08T16:55:46.604542Z",
     "start_time": "2024-05-08T16:55:46.592533Z"
    }
   },
   "outputs": [],
   "source": [
    "q = np.random.randn(L, d_k)\n",
    "k = np.random.randn(L, d_k)\n",
    "v = np.random.randn(L, d_v)"
   ]
  },
  {
   "cell_type": "code",
   "execution_count": 5,
   "id": "32ff09bb",
   "metadata": {
    "ExecuteTime": {
     "end_time": "2024-05-08T16:55:46.619343Z",
     "start_time": "2024-05-08T16:55:46.607222Z"
    }
   },
   "outputs": [
    {
     "data": {
      "text/plain": [
       "(0.5675252114413597, 0.830695207221572, 6.182488840627621)"
      ]
     },
     "execution_count": 5,
     "metadata": {},
     "output_type": "execute_result"
    }
   ],
   "source": [
    "q.var(), k.var(), np.matmul(q, k.T).var()"
   ]
  },
  {
   "cell_type": "code",
   "execution_count": 6,
   "id": "707d2765",
   "metadata": {
    "ExecuteTime": {
     "end_time": "2024-05-08T16:55:46.634903Z",
     "start_time": "2024-05-08T16:55:46.622520Z"
    }
   },
   "outputs": [
    {
     "data": {
      "text/plain": [
       "0.7728111050784525"
      ]
     },
     "execution_count": 6,
     "metadata": {},
     "output_type": "execute_result"
    }
   ],
   "source": [
    "scaled = np.matmul(q,k.T) / math.sqrt(d_k)\n",
    "scaled.var()"
   ]
  },
  {
   "cell_type": "code",
   "execution_count": 7,
   "id": "7684f652",
   "metadata": {
    "ExecuteTime": {
     "end_time": "2024-05-08T16:55:46.650198Z",
     "start_time": "2024-05-08T16:55:46.638051Z"
    }
   },
   "outputs": [
    {
     "data": {
      "text/plain": [
       "array([[  0., -inf, -inf, -inf],\n",
       "       [  0.,   0., -inf, -inf],\n",
       "       [  0.,   0.,   0., -inf],\n",
       "       [  0.,   0.,   0.,   0.]])"
      ]
     },
     "execution_count": 7,
     "metadata": {},
     "output_type": "execute_result"
    }
   ],
   "source": [
    "mask = np.tril(np.ones((L,L)))\n",
    "\n",
    "mask[mask==0] = -np.infty\n",
    "mask[mask==1] = 0\n",
    "\n",
    "mask"
   ]
  },
  {
   "cell_type": "code",
   "execution_count": 8,
   "id": "30e8e5b6",
   "metadata": {
    "ExecuteTime": {
     "end_time": "2024-05-08T16:55:46.666203Z",
     "start_time": "2024-05-08T16:55:46.652199Z"
    }
   },
   "outputs": [],
   "source": [
    "def softmax(x):\n",
    "    return (np.exp(x).T / np.sum(np.exp(x), axis=-1)).T\n",
    "\n",
    "def scaled_dot_product_attention(q, k, v, mask=None):\n",
    "    d_k = q.shape[-1]\n",
    "    scaled = np.matmul(q, k.T) / math.sqrt(d_k)\n",
    "    if mask is not None:\n",
    "        scaled = scaled + mask\n",
    "    attention = softmax(scaled)\n",
    "    out = np.matmul(attention, v)\n",
    "    return out, attention"
   ]
  },
  {
   "cell_type": "code",
   "execution_count": 9,
   "id": "e28bc031",
   "metadata": {
    "ExecuteTime": {
     "end_time": "2024-05-08T16:55:46.682213Z",
     "start_time": "2024-05-08T16:55:46.669198Z"
    }
   },
   "outputs": [],
   "source": [
    "def plot_attention_heatmap(attention_matrix, input_sentence, output_sentence):\n",
    "    plt.figure(figsize=(8, 6))\n",
    "    plt.imshow(attention_matrix, cmap='viridis', interpolation='nearest')\n",
    "    plt.colorbar()\n",
    "    plt.xticks(np.arange(len(output_sentence)), output_sentence)\n",
    "    plt.yticks(np.arange(len(input_sentence)), input_sentence)\n",
    "    plt.xlabel('Output')\n",
    "    plt.ylabel('Input')\n",
    "    plt.title('Attention Heatmap')\n",
    "    plt.show()"
   ]
  },
  {
   "cell_type": "code",
   "execution_count": 10,
   "id": "c2713fd1",
   "metadata": {
    "ExecuteTime": {
     "end_time": "2024-05-08T16:55:46.699009Z",
     "start_time": "2024-05-08T16:55:46.687850Z"
    }
   },
   "outputs": [
    {
     "name": "stdout",
     "output_type": "stream",
     "text": [
      "Q\n",
      " [[-1.04581298e+00 -7.39318304e-01  7.37447398e-03  1.05984264e+00\n",
      "  -7.05034572e-01  6.37537433e-01  6.21060118e-01  2.97734798e-01]\n",
      " [-9.36894442e-01  7.99547854e-01 -7.78477561e-01  4.69404352e-01\n",
      "  -3.55311701e-01  1.23093234e-02 -1.62176559e+00  1.55280286e+00]\n",
      " [ 7.74412187e-02 -4.62316090e-01 -1.96524661e-01  1.04138821e+00\n",
      "   5.66428780e-01  4.74630307e-01 -1.14483850e+00  5.61024436e-01]\n",
      " [-3.79434984e-01 -1.03922096e-01 -5.47251097e-01  5.91614688e-01\n",
      "   1.07935488e+00 -9.96025396e-01  1.80152495e-01 -2.52949791e-04]]\n",
      "K\n",
      " [[-1.83770631 -0.36115797 -0.55408583 -0.4780967  -0.62763636  0.02990943\n",
      "  -1.09123187  0.2385645 ]\n",
      " [-0.20275068 -0.75051085 -0.19799616 -0.43008093  0.4480587  -1.53939446\n",
      "  -0.06036109 -0.05454223]\n",
      " [-0.65113113  0.02870705  0.96670747 -0.66889895  0.03536229 -0.87213652\n",
      "  -0.65252043  0.47126892]\n",
      " [ 1.89904276 -2.30716503  1.00441029  0.43651334  1.18939596 -1.01113075\n",
      "   1.63935796 -0.60801335]]\n",
      "V\n",
      " [[ 0.8716505  -1.14079615 -0.21182086 -0.51210334 -0.38590724  0.97137753\n",
      "   0.20456269 -0.31352515]\n",
      " [ 0.92958927  0.5815248   0.46634206 -0.18059707 -1.84713014  0.68390718\n",
      "   0.73665691 -0.0707145 ]\n",
      " [-0.24860026  0.41828853 -0.44322869  0.24564196  0.02945401 -0.27004089\n",
      "  -0.12048771  2.27441038]\n",
      " [ 0.98477358 -1.35514048  0.61578746 -0.52017812 -0.6001923   0.71665896\n",
      "   1.62825666  0.46783838]]\n",
      "New V\n",
      " [[ 0.8716505  -1.14079615 -0.21182086 -0.51210334 -0.38590724  0.97137753\n",
      "   0.20456269 -0.31352515]\n",
      " [ 0.88109807 -0.8599525  -0.10123883 -0.45804754 -0.62417594  0.92450228\n",
      "   0.29132659 -0.27393216]\n",
      " [ 0.55501915 -0.19818295 -0.09175613 -0.19472871 -0.66933631  0.52259134\n",
      "   0.25614566  0.52279997]\n",
      " [ 0.73140219 -0.34353414  0.24616226 -0.26776434 -0.88448692  0.57315535\n",
      "   0.78690703  0.47422645]]\n",
      "Attention\n",
      " [[1.         0.         0.         0.        ]\n",
      " [0.83693884 0.16306116 0.         0.        ]\n",
      " [0.42455484 0.27840302 0.29704214 0.        ]\n",
      " [0.16011067 0.34405309 0.17535061 0.32048563]]\n"
     ]
    }
   ],
   "source": [
    "values, attention = scaled_dot_product_attention(q, k, v, mask=mask)\n",
    "print(\"Q\\n\", q)\n",
    "print(\"K\\n\", k)\n",
    "print(\"V\\n\", v)\n",
    "print(\"New V\\n\", values)\n",
    "print(\"Attention\\n\", attention)"
   ]
  },
  {
   "cell_type": "code",
   "execution_count": 11,
   "id": "70884f5f",
   "metadata": {
    "ExecuteTime": {
     "end_time": "2024-05-08T16:55:46.713940Z",
     "start_time": "2024-05-08T16:55:46.702008Z"
    }
   },
   "outputs": [],
   "source": [
    "new_v_input, attention_input = scaled_dot_product_attention(q, k, v, mask=None)"
   ]
  },
  {
   "cell_type": "code",
   "execution_count": 12,
   "id": "a985cfb5",
   "metadata": {
    "ExecuteTime": {
     "end_time": "2024-05-08T16:55:46.729755Z",
     "start_time": "2024-05-08T16:55:46.716938Z"
    }
   },
   "outputs": [],
   "source": [
    "new_v_output, attention_output = scaled_dot_product_attention(q, k, v, mask=mask)"
   ]
  },
  {
   "cell_type": "code",
   "execution_count": 38,
   "id": "f41f416b",
   "metadata": {
    "ExecuteTime": {
     "end_time": "2024-05-08T17:05:34.325880Z",
     "start_time": "2024-05-08T17:05:34.316652Z"
    }
   },
   "outputs": [],
   "source": [
    "q=new_v_output\n",
    "k=new_v_input\n",
    "v=new_v_input\n",
    "\n",
    "new_v_inp_out, attention_inp_out = scaled_dot_product_attention(q, k, v)"
   ]
  },
  {
   "cell_type": "markdown",
   "id": "232bff20",
   "metadata": {},
   "source": [
    "## Encoder Self-Attention"
   ]
  },
  {
   "cell_type": "code",
   "execution_count": 33,
   "id": "78a52464",
   "metadata": {
    "ExecuteTime": {
     "end_time": "2024-05-08T17:00:27.328410Z",
     "start_time": "2024-05-08T17:00:27.038923Z"
    }
   },
   "outputs": [
    {
     "data": {
      "image/png": "[encoded data removed]",
      "text/plain": [
       "<Figure size 640x480 with 2 Axes>"
      ]
     },
     "metadata": {},
     "output_type": "display_data"
    }
   ],
   "source": [
    "sns.heatmap(attention_input, xticklabels=input_sentence.split(), yticklabels=input_sentence.split(), cmap=\"Blues\") \n",
    "plt.ylabel('Query', fontsize = 15) \n",
    "plt.xlabel('Key', fontsize = 15) \n",
    "plt.show()"
   ]
  },
  {
   "cell_type": "markdown",
   "id": "08e82568",
   "metadata": {},
   "source": [
    "## Decoder Self-Attention"
   ]
  },
  {
   "cell_type": "code",
   "execution_count": 35,
   "id": "b99bab67",
   "metadata": {
    "ExecuteTime": {
     "end_time": "2024-05-08T17:02:53.736814Z",
     "start_time": "2024-05-08T17:02:53.416657Z"
    }
   },
   "outputs": [
    {
     "data": {
      "image/png": "[encoded data removed]",
      "text/plain": [
       "<Figure size 640x480 with 2 Axes>"
      ]
     },
     "metadata": {},
     "output_type": "display_data"
    }
   ],
   "source": [
    "sns.heatmap(attention_output, xticklabels=input_sentence.split(), yticklabels=input_sentence.split(), cmap=\"Blues\") \n",
    "plt.ylabel('Key', fontsize = 15) \n",
    "plt.xlabel('Query', fontsize = 15) \n",
    "plt.show()"
   ]
  },
  {
   "cell_type": "markdown",
   "id": "9037df8d",
   "metadata": {},
   "source": [
    "## Encoder-Decoder Attention"
   ]
  },
  {
   "cell_type": "code",
   "execution_count": 43,
   "id": "4fa51e42",
   "metadata": {
    "ExecuteTime": {
     "end_time": "2024-05-08T17:07:29.235053Z",
     "start_time": "2024-05-08T17:07:29.223042Z"
    }
   },
   "outputs": [
    {
     "data": {
      "text/plain": [
       "array([[0.26967614, 0.2480339 , 0.23801657, 0.24427339],\n",
       "       [0.26521793, 0.2376969 , 0.23988682, 0.25719835],\n",
       "       [0.25056362, 0.22987476, 0.25018895, 0.26937268],\n",
       "       [0.25173947, 0.20695589, 0.24926542, 0.29203922]])"
      ]
     },
     "execution_count": 43,
     "metadata": {},
     "output_type": "execute_result"
    }
   ],
   "source": [
    "attention_inp_out"
   ]
  },
  {
   "cell_type": "code",
   "execution_count": 42,
   "id": "3615be6d",
   "metadata": {
    "ExecuteTime": {
     "end_time": "2024-05-08T17:06:48.487639Z",
     "start_time": "2024-05-08T17:06:48.119905Z"
    }
   },
   "outputs": [
    {
     "data": {
      "image/png": "[encoded data removed]",
      "text/plain": [
       "<Figure size 640x480 with 2 Axes>"
      ]
     },
     "metadata": {},
     "output_type": "display_data"
    }
   ],
   "source": [
    "sns.heatmap(attention_inp_out, xticklabels=output_sentence.split(), yticklabels=input_sentence.split(), cmap=\"Blues\") \n",
    "plt.ylabel('Key', fontsize = 15) \n",
    "plt.xlabel('Query', fontsize = 15) \n",
    "plt.show()"
   ]
  },
  {
   "cell_type": "markdown",
   "id": "42511232",
   "metadata": {},
   "source": [
    "Referência:\n",
    "- https://github.com/ajhalthor"
   ]
  }
 ],
 "metadata": {
  "kernelspec": {
   "display_name": "Python 3 (ipykernel)",
   "language": "python",
   "name": "python3"
  },
  "language_info": {
   "codemirror_mode": {
    "name": "ipython",
    "version": 3
   },
   "file_extension": ".py",
   "mimetype": "text/x-python",
   "name": "python",
   "nbconvert_exporter": "python",
   "pygments_lexer": "ipython3",
   "version": "3.7.2"
  },
  "toc": {
   "base_numbering": 1,
   "nav_menu": {},
   "number_sections": true,
   "sideBar": true,
   "skip_h1_title": false,
   "title_cell": "Table of Contents",
   "title_sidebar": "Contents",
   "toc_cell": false,
   "toc_position": {},
   "toc_section_display": true,
   "toc_window_display": false
  },
  "varInspector": {
   "cols": {
    "lenName": 16,
    "lenType": 16,
    "lenVar": 40
   },
   "kernels_config": {
    "python": {
     "delete_cmd_postfix": "",
     "delete_cmd_prefix": "del ",
     "library": "var_list.py",
     "varRefreshCmd": "print(var_dic_list())"
    },
    "r": {
     "delete_cmd_postfix": ") ",
     "delete_cmd_prefix": "rm(",
     "library": "var_list.r",
     "varRefreshCmd": "cat(var_dic_list()) "
    }
   },
   "types_to_exclude": [
    "module",
    "function",
    "builtin_function_or_method",
    "instance",
    "_Feature"
   ],
   "window_display": false
  }
 },
 "nbformat": 4,
 "nbformat_minor": 5
}
