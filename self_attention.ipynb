{
 "cells": [
  {
   "cell_type": "markdown",
   "id": "55797ff6",
   "metadata": {},
   "source": [
    "# Self - Attention"
   ]
  },
  {
   "cell_type": "markdown",
   "id": "3baec29c",
   "metadata": {
    "ExecuteTime": {
     "end_time": "2024-05-08T18:04:45.424581Z",
     "start_time": "2024-05-08T18:04:45.407644Z"
    }
   },
   "source": [
    "<img style=\"float: left; width:200px;\" src=\"self_attention.png\">"
   ]
  },
  {
   "cell_type": "markdown",
   "id": "ae00ca21",
   "metadata": {},
   "source": [
    "$Attention(Q,K,V) = softmax(\\frac{QK^T}{\\sqrt{d_k}})V$"
   ]
  },
  {
   "cell_type": "markdown",
   "id": "6931a4ea",
   "metadata": {
    "ExecuteTime": {
     "end_time": "2024-05-08T17:59:30.685173Z",
     "start_time": "2024-05-08T17:59:30.666347Z"
    }
   },
   "source": [
    "Q = query - o que estou procurando\n",
    "\n",
    "\n",
    "K = key - o que tenho a oferecer\n",
    "\n",
    "\n",
    "V = value - o que eu realmente ofereço"
   ]
  },
  {
   "cell_type": "code",
   "execution_count": 1,
   "id": "8f21d8d0",
   "metadata": {
    "ExecuteTime": {
     "end_time": "2024-05-09T01:00:28.080200Z",
     "start_time": "2024-05-09T01:00:25.729796Z"
    }
   },
   "outputs": [],
   "source": [
    "import numpy as np\n",
    "import math\n",
    "import matplotlib.pyplot as plt\n",
    "import seaborn as sns"
   ]
  },
  {
   "cell_type": "code",
   "execution_count": 2,
   "id": "6d2aa640",
   "metadata": {
    "ExecuteTime": {
     "end_time": "2024-05-09T01:00:28.096298Z",
     "start_time": "2024-05-09T01:00:28.083519Z"
    }
   },
   "outputs": [],
   "source": [
    "# Exemplo de tradução\n",
    "# Frase de entrada (inglês)\n",
    "input_sentence = \"Eu estou muito feliz\"\n",
    "# Frase traduzida (português)\n",
    "output_sentence =  \"I am very happy\""
   ]
  },
  {
   "cell_type": "code",
   "execution_count": 3,
   "id": "03c0d1d0",
   "metadata": {
    "ExecuteTime": {
     "end_time": "2024-05-09T01:00:28.104805Z",
     "start_time": "2024-05-09T01:00:28.098789Z"
    }
   },
   "outputs": [],
   "source": [
    "L, d_k, d_v = 4, 8, 8"
   ]
  },
  {
   "cell_type": "markdown",
   "id": "dc8d9b63",
   "metadata": {},
   "source": [
    "> Artigo traduz de inglês para alemão e utiliza um embedding $d_{model} = 512$."
   ]
  },
  {
   "cell_type": "code",
   "execution_count": 4,
   "id": "17c2880d",
   "metadata": {
    "ExecuteTime": {
     "end_time": "2024-05-09T01:00:28.129961Z",
     "start_time": "2024-05-09T01:00:28.106188Z"
    }
   },
   "outputs": [],
   "source": [
    "q = np.random.randn(L, d_k)\n",
    "k = np.random.randn(L, d_k)\n",
    "v = np.random.randn(L, d_v)"
   ]
  },
  {
   "cell_type": "code",
   "execution_count": 5,
   "id": "32ff09bb",
   "metadata": {
    "ExecuteTime": {
     "end_time": "2024-05-09T01:00:28.146235Z",
     "start_time": "2024-05-09T01:00:28.130183Z"
    }
   },
   "outputs": [
    {
     "data": {
      "text/plain": [
       "(0.8125119189894539, 0.5906094327889003, 1.9007652779718835)"
      ]
     },
     "execution_count": 5,
     "metadata": {},
     "output_type": "execute_result"
    }
   ],
   "source": [
    "q.var(), k.var(), np.matmul(q, k.T).var()"
   ]
  },
  {
   "cell_type": "code",
   "execution_count": 6,
   "id": "707d2765",
   "metadata": {
    "ExecuteTime": {
     "end_time": "2024-05-09T01:00:28.162531Z",
     "start_time": "2024-05-09T01:00:28.149312Z"
    }
   },
   "outputs": [
    {
     "data": {
      "text/plain": [
       "0.2375956597464854"
      ]
     },
     "execution_count": 6,
     "metadata": {},
     "output_type": "execute_result"
    }
   ],
   "source": [
    "scaled = np.matmul(q,k.T) / math.sqrt(d_k)\n",
    "scaled.var()"
   ]
  },
  {
   "cell_type": "code",
   "execution_count": 7,
   "id": "7684f652",
   "metadata": {
    "ExecuteTime": {
     "end_time": "2024-05-09T01:00:28.179128Z",
     "start_time": "2024-05-09T01:00:28.163209Z"
    }
   },
   "outputs": [
    {
     "data": {
      "text/plain": [
       "array([[  0., -inf, -inf, -inf],\n",
       "       [  0.,   0., -inf, -inf],\n",
       "       [  0.,   0.,   0., -inf],\n",
       "       [  0.,   0.,   0.,   0.]])"
      ]
     },
     "execution_count": 7,
     "metadata": {},
     "output_type": "execute_result"
    }
   ],
   "source": [
    "mask = np.tril(np.ones((L,L)))\n",
    "\n",
    "mask[mask==0] = -np.infty\n",
    "mask[mask==1] = 0\n",
    "\n",
    "mask"
   ]
  },
  {
   "cell_type": "code",
   "execution_count": 8,
   "id": "30e8e5b6",
   "metadata": {
    "ExecuteTime": {
     "end_time": "2024-05-09T01:00:28.203634Z",
     "start_time": "2024-05-09T01:00:28.180699Z"
    }
   },
   "outputs": [],
   "source": [
    "def softmax(x):\n",
    "    return (np.exp(x).T / np.sum(np.exp(x), axis=-1)).T\n",
    "\n",
    "def scaled_dot_product_attention(q, k, v, mask=None):\n",
    "    d_k = q.shape[-1]\n",
    "    scaled = np.matmul(q, k.T) / math.sqrt(d_k)\n",
    "    if mask is not None:\n",
    "        scaled = scaled + mask\n",
    "    attention = softmax(scaled)\n",
    "    out = np.matmul(attention, v)\n",
    "    return out, attention"
   ]
  },
  {
   "cell_type": "code",
   "execution_count": 9,
   "id": "e28bc031",
   "metadata": {
    "ExecuteTime": {
     "end_time": "2024-05-09T01:00:28.219909Z",
     "start_time": "2024-05-09T01:00:28.204446Z"
    }
   },
   "outputs": [],
   "source": [
    "def plot_attention_heatmap(attention_matrix, input_sentence, output_sentence):\n",
    "    plt.figure(figsize=(8, 6))\n",
    "    plt.imshow(attention_matrix, cmap='viridis', interpolation='nearest')\n",
    "    plt.colorbar()\n",
    "    plt.xticks(np.arange(len(output_sentence)), output_sentence)\n",
    "    plt.yticks(np.arange(len(input_sentence)), input_sentence)\n",
    "    plt.xlabel('Output')\n",
    "    plt.ylabel('Input')\n",
    "    plt.title('Attention Heatmap')\n",
    "    plt.show()"
   ]
  },
  {
   "cell_type": "code",
   "execution_count": 10,
   "id": "c2713fd1",
   "metadata": {
    "ExecuteTime": {
     "end_time": "2024-05-09T01:00:28.253113Z",
     "start_time": "2024-05-09T01:00:28.228249Z"
    }
   },
   "outputs": [
    {
     "name": "stdout",
     "output_type": "stream",
     "text": [
      "Q\n",
      " [[ 0.9045319   0.14563315  0.68870739  1.17313896  1.10497416 -0.84473162\n",
      "   0.8313184  -0.53928657]\n",
      " [-1.27447765  0.99654701 -0.74059388  0.9847301   0.82794299 -1.37675222\n",
      "   1.69346126 -0.99658588]\n",
      " [-0.16544797 -0.0865677  -1.78418276 -0.10264331  0.20122295  0.14763751\n",
      "  -1.63080619  0.94260766]\n",
      " [-0.12828603  0.53658352  0.97659724 -0.96086491  0.09931256 -0.63004574\n",
      "   0.40092678  0.59326671]]\n",
      "K\n",
      " [[ 0.78156276  0.36030074 -1.02714339  0.75400295  0.40185708  1.58115191\n",
      "   1.14393046 -0.8187551 ]\n",
      " [-0.52178903 -0.37659981  0.98367459 -0.17517294 -0.71823844 -0.45571092\n",
      "  -0.12969153 -0.09984294]\n",
      " [-0.04423277 -1.75014314  0.53493758 -0.63848271  0.68151372 -0.29492109\n",
      "   0.04810835 -0.73905168]\n",
      " [-1.49590884 -0.62133279  1.11817854 -0.59791679 -0.47594922  0.53805772\n",
      "  -0.5930017  -0.09085652]]\n",
      "V\n",
      " [[ 0.65364729 -0.72776649  0.5386928   0.09838626 -0.87422196  0.12339661\n",
      "  -0.74118016  1.05155913]\n",
      " [-1.02750459 -1.82469114 -2.01382791 -0.12215566 -1.01331401  0.24561483\n",
      "   0.07742181 -0.02101762]\n",
      " [-0.40151161  1.36303216 -1.67469038  0.19420657 -0.03556264 -0.40888298\n",
      "   0.49108855  2.06675431]\n",
      " [-0.81817674 -0.37964852 -0.65374055  2.0826181   0.99868644 -0.47676159\n",
      "  -0.19867136 -0.01798444]]\n",
      "New V\n",
      " [[ 0.65364729 -0.72776649  0.5386928   0.09838626 -0.87422196  0.12339661\n",
      "  -0.74118016  1.05155913]\n",
      " [ 0.15890177 -1.05058001 -0.21248751  0.03348307 -0.9151553   0.15936416\n",
      "  -0.50027411  0.73591094]\n",
      " [-0.15541548 -0.37956203 -0.8824252   0.06608881 -0.64927236 -0.00975561\n",
      "  -0.12073844  1.06760346]\n",
      " [-0.6535814  -0.49852171 -1.260209    0.67691309 -0.12502266 -0.15270312\n",
      "   0.01179     0.58002494]]\n",
      "Attention\n",
      " [[1.         0.         0.         0.        ]\n",
      " [0.7057104  0.2942896  0.         0.        ]\n",
      " [0.40136678 0.28340511 0.31522811 0.        ]\n",
      " [0.09361946 0.34833189 0.23932775 0.3187209 ]]\n"
     ]
    }
   ],
   "source": [
    "values, attention = scaled_dot_product_attention(q, k, v, mask=mask)\n",
    "print(\"Q\\n\", q)\n",
    "print(\"K\\n\", k)\n",
    "print(\"V\\n\", v)\n",
    "print(\"New V\\n\", values)\n",
    "print(\"Attention\\n\", attention)"
   ]
  },
  {
   "cell_type": "code",
   "execution_count": 11,
   "id": "70884f5f",
   "metadata": {
    "ExecuteTime": {
     "end_time": "2024-05-09T01:00:28.277921Z",
     "start_time": "2024-05-09T01:00:28.256891Z"
    }
   },
   "outputs": [],
   "source": [
    "new_v_input, attention_input = scaled_dot_product_attention(q, k, v, mask=None)"
   ]
  },
  {
   "cell_type": "code",
   "execution_count": 12,
   "id": "a985cfb5",
   "metadata": {
    "ExecuteTime": {
     "end_time": "2024-05-09T01:00:28.294506Z",
     "start_time": "2024-05-09T01:00:28.278122Z"
    }
   },
   "outputs": [],
   "source": [
    "new_v_output, attention_output = scaled_dot_product_attention(q, k, v, mask=mask)"
   ]
  },
  {
   "cell_type": "code",
   "execution_count": 13,
   "id": "f41f416b",
   "metadata": {
    "ExecuteTime": {
     "end_time": "2024-05-09T01:00:28.310292Z",
     "start_time": "2024-05-09T01:00:28.298520Z"
    }
   },
   "outputs": [],
   "source": [
    "q=new_v_output\n",
    "k=new_v_input\n",
    "v=new_v_input\n",
    "\n",
    "new_v_inp_out, attention_inp_out = scaled_dot_product_attention(q, k, v)"
   ]
  },
  {
   "cell_type": "markdown",
   "id": "232bff20",
   "metadata": {},
   "source": [
    "## Encoder Self-Attention"
   ]
  },
  {
   "cell_type": "code",
   "execution_count": 14,
   "id": "78a52464",
   "metadata": {
    "ExecuteTime": {
     "end_time": "2024-05-09T01:00:28.583574Z",
     "start_time": "2024-05-09T01:00:28.311141Z"
    }
   },
   "outputs": [
    {
     "data": {
      "image/png": "[encoded data removed]",
      "text/plain": [
       "<Figure size 640x480 with 2 Axes>"
      ]
     },
     "metadata": {},
     "output_type": "display_data"
    }
   ],
   "source": [
    "sns.heatmap(attention_input, xticklabels=input_sentence.split(), yticklabels=input_sentence.split(), cmap=\"Blues\") \n",
    "plt.ylabel('Query', fontsize = 15) \n",
    "plt.xlabel('Key', fontsize = 15) \n",
    "plt.show()"
   ]
  },
  {
   "cell_type": "markdown",
   "id": "08e82568",
   "metadata": {},
   "source": [
    "## Decoder Self-Attention"
   ]
  },
  {
   "cell_type": "code",
   "execution_count": 15,
   "id": "b99bab67",
   "metadata": {
    "ExecuteTime": {
     "end_time": "2024-05-09T01:00:28.804620Z",
     "start_time": "2024-05-09T01:00:28.584473Z"
    }
   },
   "outputs": [
    {
     "data": {
      "image/png": "[encoded data removed]",
      "text/plain": [
       "<Figure size 640x480 with 2 Axes>"
      ]
     },
     "metadata": {},
     "output_type": "display_data"
    }
   ],
   "source": [
    "sns.heatmap(attention_output, xticklabels=output_sentence.split(), yticklabels=output_sentence.split(), cmap=\"Blues\") \n",
    "plt.ylabel('Key', fontsize = 15) \n",
    "plt.xlabel('Query', fontsize = 15) \n",
    "plt.show()"
   ]
  },
  {
   "cell_type": "markdown",
   "id": "9037df8d",
   "metadata": {},
   "source": [
    "## Encoder-Decoder Attention"
   ]
  },
  {
   "cell_type": "code",
   "execution_count": 16,
   "id": "4fa51e42",
   "metadata": {
    "ExecuteTime": {
     "end_time": "2024-05-09T01:00:28.821200Z",
     "start_time": "2024-05-09T01:00:28.807141Z"
    }
   },
   "outputs": [
    {
     "data": {
      "text/plain": [
       "array([[0.28080198, 0.3166223 , 0.22625997, 0.17631574],\n",
       "       [0.26284798, 0.28518612, 0.22967078, 0.22229512],\n",
       "       [0.26658834, 0.24439295, 0.23417792, 0.25484079],\n",
       "       [0.22395816, 0.20286802, 0.24939458, 0.32377924]])"
      ]
     },
     "execution_count": 16,
     "metadata": {},
     "output_type": "execute_result"
    }
   ],
   "source": [
    "attention_inp_out"
   ]
  },
  {
   "cell_type": "code",
   "execution_count": 17,
   "id": "3615be6d",
   "metadata": {
    "ExecuteTime": {
     "end_time": "2024-05-09T01:00:28.994411Z",
     "start_time": "2024-05-09T01:00:28.821870Z"
    }
   },
   "outputs": [
    {
     "data": {
      "image/png": "[encoded data removed]",
      "text/plain": [
       "<Figure size 640x480 with 2 Axes>"
      ]
     },
     "metadata": {},
     "output_type": "display_data"
    }
   ],
   "source": [
    "sns.heatmap(attention_inp_out, xticklabels=output_sentence.split(), yticklabels=input_sentence.split(), cmap=\"Blues\") \n",
    "plt.ylabel('Key', fontsize = 15) \n",
    "plt.xlabel('Query', fontsize = 15) \n",
    "plt.show()"
   ]
  },
  {
   "cell_type": "markdown",
   "id": "42511232",
   "metadata": {},
   "source": [
    "Referência:\n",
    "- https://github.com/ajhalthor"
   ]
  }
 ],
 "metadata": {
  "kernelspec": {
   "display_name": "Python 3 (ipykernel)",
   "language": "python",
   "name": "python3"
  },
  "language_info": {
   "codemirror_mode": {
    "name": "ipython",
    "version": 3
   },
   "file_extension": ".py",
   "mimetype": "text/x-python",
   "name": "python",
   "nbconvert_exporter": "python",
   "pygments_lexer": "ipython3",
   "version": "3.7.2"
  },
  "toc": {
   "base_numbering": 1,
   "nav_menu": {},
   "number_sections": true,
   "sideBar": true,
   "skip_h1_title": false,
   "title_cell": "Table of Contents",
   "title_sidebar": "Contents",
   "toc_cell": false,
   "toc_position": {},
   "toc_section_display": true,
   "toc_window_display": false
  },
  "varInspector": {
   "cols": {
    "lenName": 16,
    "lenType": 16,
    "lenVar": 40
   },
   "kernels_config": {
    "python": {
     "delete_cmd_postfix": "",
     "delete_cmd_prefix": "del ",
     "library": "var_list.py",
     "varRefreshCmd": "print(var_dic_list())"
    },
    "r": {
     "delete_cmd_postfix": ") ",
     "delete_cmd_prefix": "rm(",
     "library": "var_list.r",
     "varRefreshCmd": "cat(var_dic_list()) "
    }
   },
   "types_to_exclude": [
    "module",
    "function",
    "builtin_function_or_method",
    "instance",
    "_Feature"
   ],
   "window_display": false
  }
 },
 "nbformat": 4,
 "nbformat_minor": 5
}
