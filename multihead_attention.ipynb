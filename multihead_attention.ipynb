{
 "cells": [
  {
   "cell_type": "markdown",
   "id": "25bc0659",
   "metadata": {},
   "source": [
    "# Multi-head Attention"
   ]
  },
  {
   "cell_type": "markdown",
   "id": "917333ce",
   "metadata": {},
   "source": [
    "8 heads de attention para vetores de tamanho 512.\n",
    "\n",
    "Repetimos o mesmo vetor para query - key e value\n",
    "Dividimos o vetor na quantidade de heads (8).\n",
    "Cada um é uma unidade de attention."
   ]
  },
  {
   "cell_type": "code",
   "execution_count": 41,
   "id": "f3a9f60d",
   "metadata": {
    "ExecuteTime": {
     "end_time": "2024-05-08T19:30:26.303921Z",
     "start_time": "2024-05-08T19:30:26.288604Z"
    }
   },
   "outputs": [],
   "source": [
    "import numpy as np\n",
    "import torch\n",
    "import torch.nn as nn\n",
    "import torch.nn.functional as F\n",
    "import math"
   ]
  },
  {
   "cell_type": "code",
   "execution_count": 5,
   "id": "9ff108b2",
   "metadata": {
    "ExecuteTime": {
     "end_time": "2024-05-08T19:22:44.027488Z",
     "start_time": "2024-05-08T19:22:44.016803Z"
    }
   },
   "outputs": [],
   "source": [
    "sequence_lenght = 4 #quantidade de palavras da sequência\n",
    "batch_size      = 1 #ajuda no processo de paralelismo\n",
    "input_dim       = 512 #dimensão de cada embedding de entrada cada palavra\n",
    "d_model         = 512 #dimensão do embedding do output\n",
    "x = torch.randn((batch_size, sequence_lenght, input_dim))"
   ]
  },
  {
   "cell_type": "code",
   "execution_count": 8,
   "id": "6c38768b",
   "metadata": {
    "ExecuteTime": {
     "end_time": "2024-05-08T19:23:03.533339Z",
     "start_time": "2024-05-08T19:23:03.523573Z"
    }
   },
   "outputs": [
    {
     "data": {
      "text/plain": [
       "torch.Size([1, 4, 512])"
      ]
     },
     "execution_count": 8,
     "metadata": {},
     "output_type": "execute_result"
    }
   ],
   "source": [
    "x.size() #é o valor que sai do positional encoding"
   ]
  },
  {
   "cell_type": "code",
   "execution_count": 22,
   "id": "a9dd1a13",
   "metadata": {
    "ExecuteTime": {
     "end_time": "2024-05-08T19:27:28.512205Z",
     "start_time": "2024-05-08T19:27:28.488050Z"
    }
   },
   "outputs": [],
   "source": [
    "qkv_layer = nn.Linear(input_dim, 3*d_model) #criando a key, value e query vetores concatenados"
   ]
  },
  {
   "cell_type": "code",
   "execution_count": 23,
   "id": "6f6f5747",
   "metadata": {
    "ExecuteTime": {
     "end_time": "2024-05-08T19:27:28.693232Z",
     "start_time": "2024-05-08T19:27:28.669219Z"
    }
   },
   "outputs": [],
   "source": [
    "qkv = qkv_layer(x)"
   ]
  },
  {
   "cell_type": "code",
   "execution_count": 24,
   "id": "e0be25b1",
   "metadata": {
    "ExecuteTime": {
     "end_time": "2024-05-08T19:27:28.875115Z",
     "start_time": "2024-05-08T19:27:28.842037Z"
    }
   },
   "outputs": [
    {
     "data": {
      "text/plain": [
       "torch.Size([1, 4, 1536])"
      ]
     },
     "execution_count": 24,
     "metadata": {},
     "output_type": "execute_result"
    }
   ],
   "source": [
    "qkv.shape #1batch, 4 palavras e 1536 "
   ]
  },
  {
   "cell_type": "code",
   "execution_count": 25,
   "id": "c1ab13a1",
   "metadata": {
    "ExecuteTime": {
     "end_time": "2024-05-08T19:27:28.998738Z",
     "start_time": "2024-05-08T19:27:28.982526Z"
    }
   },
   "outputs": [],
   "source": [
    "num_heads = 8 \n",
    "head_dim = d_model//num_heads\n",
    "qkv = qkv.reshape(batch_size, sequence_lenght, num_heads, 3*head_dim) #query, key "
   ]
  },
  {
   "cell_type": "code",
   "execution_count": 26,
   "id": "1b77e198",
   "metadata": {
    "ExecuteTime": {
     "end_time": "2024-05-08T19:27:29.154432Z",
     "start_time": "2024-05-08T19:27:29.130133Z"
    }
   },
   "outputs": [
    {
     "data": {
      "text/plain": [
       "torch.Size([1, 4, 8, 192])"
      ]
     },
     "execution_count": 26,
     "metadata": {},
     "output_type": "execute_result"
    }
   ],
   "source": [
    "qkv.shape"
   ]
  },
  {
   "cell_type": "code",
   "execution_count": 27,
   "id": "a32ef61e",
   "metadata": {
    "ExecuteTime": {
     "end_time": "2024-05-08T19:27:29.311196Z",
     "start_time": "2024-05-08T19:27:29.295285Z"
    }
   },
   "outputs": [],
   "source": [
    "qkv = qkv.permute(0,2,1,3)"
   ]
  },
  {
   "cell_type": "code",
   "execution_count": 28,
   "id": "aa330192",
   "metadata": {
    "ExecuteTime": {
     "end_time": "2024-05-08T19:27:29.896784Z",
     "start_time": "2024-05-08T19:27:29.880389Z"
    }
   },
   "outputs": [
    {
     "data": {
      "text/plain": [
       "torch.Size([1, 8, 4, 192])"
      ]
     },
     "execution_count": 28,
     "metadata": {},
     "output_type": "execute_result"
    }
   ],
   "source": [
    "qkv.shape"
   ]
  },
  {
   "cell_type": "code",
   "execution_count": 29,
   "id": "f0735860",
   "metadata": {
    "ExecuteTime": {
     "end_time": "2024-05-08T19:27:55.807554Z",
     "start_time": "2024-05-08T19:27:55.782796Z"
    }
   },
   "outputs": [
    {
     "data": {
      "text/plain": [
       "(torch.Size([1, 8, 4, 64]),\n",
       " torch.Size([1, 8, 4, 64]),\n",
       " torch.Size([1, 8, 4, 64]))"
      ]
     },
     "execution_count": 29,
     "metadata": {},
     "output_type": "execute_result"
    }
   ],
   "source": [
    "q,k,v = qkv.chunk(3, dim=-1)\n",
    "q.shape, k.shape, v.shape"
   ]
  },
  {
   "cell_type": "code",
   "execution_count": 42,
   "id": "f2f840ca",
   "metadata": {
    "ExecuteTime": {
     "end_time": "2024-05-08T19:30:28.728954Z",
     "start_time": "2024-05-08T19:30:28.704038Z"
    }
   },
   "outputs": [],
   "source": [
    "d_k = q.size()[-1]\n",
    "scaled = torch.matmul(q, k.transpose(-2,-1)) / math.sqrt(d_k) #sequence lenght e dimensão"
   ]
  },
  {
   "cell_type": "code",
   "execution_count": 37,
   "id": "3c4d7f12",
   "metadata": {
    "ExecuteTime": {
     "end_time": "2024-05-08T19:29:13.641991Z",
     "start_time": "2024-05-08T19:29:13.619638Z"
    }
   },
   "outputs": [
    {
     "data": {
      "text/plain": [
       "torch.Size([1, 8, 4, 64])"
      ]
     },
     "execution_count": 37,
     "metadata": {},
     "output_type": "execute_result"
    }
   ],
   "source": [
    "q.shape"
   ]
  },
  {
   "cell_type": "code",
   "execution_count": 43,
   "id": "64e2a09e",
   "metadata": {
    "ExecuteTime": {
     "end_time": "2024-05-08T19:30:57.693306Z",
     "start_time": "2024-05-08T19:30:57.663449Z"
    }
   },
   "outputs": [
    {
     "name": "stderr",
     "output_type": "stream",
     "text": [
      "c:\\users\\letic\\documents\\venv_transformers\\lib\\site-packages\\ipykernel_launcher.py:1: UserWarning: The use of `x.T` on tensors of dimension other than 2 to reverse their shape is deprecated and it will throw an error in a future release. Consider `x.mT` to transpose batches of matrices or `x.permute(*torch.arange(x.ndim - 1, -1, -1))` to reverse the dimensions of a tensor. (Triggered internally at C:\\actions-runner\\_work\\pytorch\\pytorch\\builder\\windows\\pytorch\\aten\\src\\ATen\\native\\TensorShape.cpp:3281.)\n",
      "  \"\"\"Entry point for launching an IPython kernel.\n"
     ]
    },
    {
     "data": {
      "text/plain": [
       "torch.Size([64, 4, 8, 1])"
      ]
     },
     "execution_count": 43,
     "metadata": {},
     "output_type": "execute_result"
    }
   ],
   "source": [
    "k.T.shape"
   ]
  },
  {
   "cell_type": "code",
   "execution_count": 34,
   "id": "a7838acc",
   "metadata": {
    "ExecuteTime": {
     "end_time": "2024-05-08T19:28:41.040811Z",
     "start_time": "2024-05-08T19:28:41.034297Z"
    }
   },
   "outputs": [
    {
     "data": {
      "text/plain": [
       "64"
      ]
     },
     "execution_count": 34,
     "metadata": {},
     "output_type": "execute_result"
    }
   ],
   "source": [
    "d_k"
   ]
  },
  {
   "cell_type": "code",
   "execution_count": null,
   "id": "b76483b0",
   "metadata": {},
   "outputs": [],
   "source": []
  }
 ],
 "metadata": {
  "kernelspec": {
   "display_name": "Python 3 (ipykernel)",
   "language": "python",
   "name": "python3"
  },
  "language_info": {
   "codemirror_mode": {
    "name": "ipython",
    "version": 3
   },
   "file_extension": ".py",
   "mimetype": "text/x-python",
   "name": "python",
   "nbconvert_exporter": "python",
   "pygments_lexer": "ipython3",
   "version": "3.7.2"
  },
  "toc": {
   "base_numbering": 1,
   "nav_menu": {},
   "number_sections": true,
   "sideBar": true,
   "skip_h1_title": false,
   "title_cell": "Table of Contents",
   "title_sidebar": "Contents",
   "toc_cell": false,
   "toc_position": {},
   "toc_section_display": true,
   "toc_window_display": false
  },
  "varInspector": {
   "cols": {
    "lenName": 16,
    "lenType": 16,
    "lenVar": 40
   },
   "kernels_config": {
    "python": {
     "delete_cmd_postfix": "",
     "delete_cmd_prefix": "del ",
     "library": "var_list.py",
     "varRefreshCmd": "print(var_dic_list())"
    },
    "r": {
     "delete_cmd_postfix": ") ",
     "delete_cmd_prefix": "rm(",
     "library": "var_list.r",
     "varRefreshCmd": "cat(var_dic_list()) "
    }
   },
   "types_to_exclude": [
    "module",
    "function",
    "builtin_function_or_method",
    "instance",
    "_Feature"
   ],
   "window_display": false
  }
 },
 "nbformat": 4,
 "nbformat_minor": 5
}
